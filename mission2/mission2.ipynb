{
 "cells": [
  {
   "cell_type": "code",
   "execution_count": 1,
   "metadata": {
    "pycharm": {
     "name": "#%%\n"
    }
   },
   "outputs": [],
   "source": [
    "# On importe les bibliothèques qui nous seront utiles\n",
    "from pandas import *  # pour lire, importer et manipuler des données sous forme tableur\n",
    "from numpy import *  # pour faire des calculs\n",
    "from matplotlib.pylab import * # pour faire des graphiques"
   ]
  },
  {
   "cell_type": "code",
   "execution_count": 2,
   "metadata": {
    "pycharm": {
     "name": "#%%\n"
    }
   },
   "outputs": [],
   "source": [
    "# Importation des données \"Démographie\" dans un dataframe\n",
    "tableAliments = read_excel('Aliments.xlsx')\n",
    "tableSondage = read_excel('Sondage_1.xlsx')"
   ]
  },
  {
   "cell_type": "markdown",
   "metadata": {
    "pycharm": {
     "name": "#%% md\n"
    }
   },
   "source": [
    "# Bio."
   ]
  },
  {
   "cell_type": "code",
   "execution_count": 11,
   "metadata": {
    "pycharm": {
     "name": "#%%\n"
    }
   },
   "outputs": [
    {
     "name": "stdout",
     "output_type": "stream",
     "text": [
      "Liste des habitants qui préfèrent les aliments Bio : \n",
      "- CAUCHARD\n",
      "- MELLOUK\n",
      "- CAUCHARD\n",
      "- CAUCHARD\n",
      "- CAUCHARD\n",
      "- CAUCHARD\n",
      "- CAUCHARD\n",
      "- CAUCHARD\n",
      "\n",
      "Aucun habitant préfère les aliments Halal\n",
      "Aucun habitant préfère les aliments Vegan\n",
      "Aucun habitant préfère les aliments Casher\n"
     ]
    }
   ],
   "source": [
    "lables = tableSondage.columns[8:]\n",
    "taille = len(tableSondage.Nom)\n",
    "bio = 0\n",
    "halal = 0\n",
    "vegan = 0\n",
    "casher = 0\n",
    "habitantBio = []\n",
    "habitantHalal = []\n",
    "habitantVegan = []\n",
    "habitantCasher = []\n",
    "\n",
    "for i in range(taille) :\n",
    "    for j in range(len(lables)) :\n",
    "        aliment = tableSondage[lables[j]][i]\n",
    "        nomAliment = tableAliments[tableAliments.alim_code==aliment].alim_nom_fr\n",
    "        catAliment = tableAliments[tableAliments.alim_code==aliment].alim_ssssgrp_nom_fr\n",
    "        if \"bio\" in nomAliment.values[0] :\n",
    "            bio+=1\n",
    "        if \"halal\" in catAliment.values[0] :\n",
    "            halal+=1\n",
    "        if \"vegan\" in nomAliment.values[0] :\n",
    "            vegan+=1\n",
    "        if \"casher\" in catAliment.values[0] :\n",
    "            casher+=1\n",
    "    if bio >= 3 :\n",
    "        habitantBio.append(tableSondage.Nom[i])\n",
    "    if halal >= 2 :\n",
    "        habitantHalal.append(tableSondage.Nom[i])\n",
    "    if vegan >= 3 :\n",
    "        habitantVegan.append(tableSondage.Nom[i])\n",
    "    if casher >= 2 :\n",
    "        habitantCasher.append(tableSondage.Nom[i])\n",
    "\n",
    "    bio = 0\n",
    "    halal = 0\n",
    "    vegan = 0\n",
    "    casher = 0\n",
    "    \n",
    "#bio\n",
    "if habitantBio == [] :\n",
    "    bio = \"Aucun habitant préfère les aliments Bio\"\n",
    "else :\n",
    "    bio = \"Liste des habitants qui préfèrent les aliments Bio : \\n\"\n",
    "    for i in habitantBio :\n",
    "        bio += \"- \" + i + \"\\n\"\n",
    "print(bio)\n",
    "\n",
    "#halal\n",
    "if habitantHalal == [] :\n",
    "    bio = \"Aucun habitant préfère les aliments Halal\"\n",
    "else :\n",
    "    bio = \"Liste des habitants qui préfèrent les aliments Halal : \\n\"\n",
    "    for i in habitantHalal :\n",
    "        bio += \"- \" + i + \"\\n\"\n",
    "print(bio)\n",
    "\n",
    "#vegan\n",
    "if habitantVegan == [] :\n",
    "    bio = \"Aucun habitant préfère les aliments Vegan\"\n",
    "else :\n",
    "    bio = \"Liste des habitants qui préfèrent les aliments Vegan : \\n\"\n",
    "    for i in habitantVegan :\n",
    "        bio += \"- \" + i + \"\\n\"\n",
    "print(bio)\n",
    "\n",
    "#casher\n",
    "if habitantCasher == [] :\n",
    "    bio = \"Aucun habitant préfère les aliments Casher\"\n",
    "else :\n",
    "    bio = \"Liste des habitants qui préfèrent les aliments Casher : \\n\"\n",
    "    for i in habitantCasher :\n",
    "        bio += \"- \" + i + \"\\n\"\n",
    "print(bio)"
   ]
  },
  {
   "cell_type": "code",
   "execution_count": 12,
   "metadata": {
    "pycharm": {
     "name": "#%%\n"
    }
   },
   "outputs": [
    {
     "name": "stdout",
     "output_type": "stream",
     "text": [
      "[['entrées et plats composés', 16], ['fruits, légumes, légumineuses et oléagineux', 16], ['produits laitiers et assimilés', 16], ['viandes, œufs, poissons et assimilés', 15], ['eaux et autres boissons', 9], ['produits sucrés', 8], ['pâtes diverses, produits céréaliers', 0], ['glaces et sorbets', 0], ['matières grasses', 0], ['aides culinaires et ingrédients divers', 0], ['aliments infantiles', 0]]\n"
     ]
    }
   ],
   "source": [
    "categorie = tableAliments.alim_grp_nom_fr.unique()\n",
    "listeCat = []\n",
    "for i in categorie :\n",
    "    listeCat.append([i,0])\n",
    "#print(listeCat)\n",
    "\n",
    "\n",
    "for i in range(taille) :\n",
    "    for j in range(len(lables)) :\n",
    "        aliment = tableSondage[lables[j]][i]\n",
    "        catAliment = tableAliments[tableAliments.alim_code==aliment].alim_grp_code\n",
    "        listeCat[catAliment.values[0]-1][1]+=1\n",
    "\n",
    "\n",
    "def takeSecond(elem):\n",
    "    return elem[1]\n",
    "\n",
    "#print(listeCat)\n",
    "listeCat.sort(key=takeSecond, reverse=True)\n",
    "print(listeCat)"
   ]
  },
  {
   "cell_type": "code",
   "execution_count": null,
   "metadata": {
    "pycharm": {
     "name": "#%%\n"
    }
   },
   "outputs": [],
   "source": []
  }
 ],
 "metadata": {
  "kernelspec": {
   "display_name": "Python 3 (ipykernel)",
   "language": "python",
   "name": "python3"
  },
  "language_info": {
   "codemirror_mode": {
    "name": "ipython",
    "version": 3
   },
   "file_extension": ".py",
   "mimetype": "text/x-python",
   "name": "python",
   "nbconvert_exporter": "python",
   "pygments_lexer": "ipython3",
   "version": "3.9.12"
  }
 },
 "nbformat": 4,
 "nbformat_minor": 1
}
