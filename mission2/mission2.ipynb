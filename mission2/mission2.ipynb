{
 "cells": [
  {
   "cell_type": "code",
   "execution_count": 4,
   "metadata": {
    "collapsed": true,
    "pycharm": {
     "name": "#%%\n"
    }
   },
   "outputs": [],
   "source": [
    "# On importe les bibliothèques qui nous seront utiles\n",
    "from pandas import *  # pour lire, importer et manipuler des données sous forme tableur\n",
    "from numpy import *  # pour faire des calculs\n",
    "from matplotlib.pylab import * # pour faire des graphiques"
   ]
  },
  {
   "cell_type": "code",
   "execution_count": 9,
   "outputs": [
    {
     "name": "stdout",
     "output_type": "stream",
     "text": [
      "      alim_code                                        alim_nom_fr  \\\n",
      "0          4041  Aligot (purée de pomme de terre à la tomme fra...   \n",
      "1         25229  Bâtonnet pané soja et blé (convient aux végane...   \n",
      "2         25556                                 Beignet de légumes   \n",
      "3         25551  Beignet de viande, volaille ou poisson, fait m...   \n",
      "4         25001                                 Blanquette de veau   \n",
      "...         ...                                                ...   \n",
      "3189      42604  Plat légumes, avec féculent et viande/poisson,...   \n",
      "3190      20248          Plat légumes, avec féculent, dès 6-8 mois   \n",
      "3191      42501                          Poudre cacaotée pour bébé   \n",
      "3192      20252          Soupe pour bébé légumes et pomme de terre   \n",
      "3193      20253          Soupe pour bébé légumes, céréales et lait   \n",
      "\n",
      "     alim_nom_sci  alim_grp_code            alim_grp_nom_fr  alim_ssgrp_code  \\\n",
      "0             NaN              1  entrées et plats composés              103   \n",
      "1             NaN              1  entrées et plats composés              103   \n",
      "2             NaN              1  entrées et plats composés              103   \n",
      "3             NaN              1  entrées et plats composés              106   \n",
      "4             NaN              1  entrées et plats composés              103   \n",
      "...           ...            ...                        ...              ...   \n",
      "3189          NaN             11        aliments infantiles             1102   \n",
      "3190          NaN             11        aliments infantiles             1102   \n",
      "3191          NaN             11        aliments infantiles             1104   \n",
      "3192          NaN             11        aliments infantiles             1102   \n",
      "3193          NaN             11        aliments infantiles             1102   \n",
      "\n",
      "                          alim_ssgrp_nom_fr  alim_ssssgrp_code  \\\n",
      "0                            plats composés              10308   \n",
      "1                            plats composés              10309   \n",
      "2                            plats composés              10306   \n",
      "3             feuilletées et autres entrées                  0   \n",
      "4                            plats composés              10301   \n",
      "...                                     ...                ...   \n",
      "3189  petits pots salés et plats infantiles                  0   \n",
      "3190  petits pots salés et plats infantiles                  0   \n",
      "3191        céréales et biscuits infantiles                  0   \n",
      "3192  petits pots salés et plats infantiles                  0   \n",
      "3193  petits pots salés et plats infantiles                  0   \n",
      "\n",
      "                 alim_ssssgrp_nom_fr  \\\n",
      "0                   plats de fromage   \n",
      "1                  plats végétariens   \n",
      "2      plats de légumes/légumineuses   \n",
      "3                  Non spécialisable   \n",
      "4     plats de viande sans garniture   \n",
      "...                              ...   \n",
      "3189               Non spécialisable   \n",
      "3190               Non spécialisable   \n",
      "3191               Non spécialisable   \n",
      "3192               Non spécialisable   \n",
      "3193               Non spécialisable   \n",
      "\n",
      "     Energie, Règlement UE N° 1169/2011 (kJ/100 g)  ...  \\\n",
      "0                                              810  ...   \n",
      "1                                             1030  ...   \n",
      "2                                                -  ...   \n",
      "3                                              993  ...   \n",
      "4                                              474  ...   \n",
      "...                                            ...  ...   \n",
      "3189                                           231  ...   \n",
      "3190                                           180  ...   \n",
      "3191                                          1680  ...   \n",
      "3192                                           162  ...   \n",
      "3193                                           249  ...   \n",
      "\n",
      "     Beta-Carotène (µg/100 g) Vitamine D (µg/100 g) Vitamine E (mg/100 g)  \\\n",
      "0                           -                     -                     -   \n",
      "1                        8,16                < 0,25                  2,55   \n",
      "2                         197                  0,16                  2,86   \n",
      "3                        2,48                  0,29                  2,91   \n",
      "4                         736                < 0,25                  0,37   \n",
      "...                       ...                   ...                   ...   \n",
      "3189                      870                 < 0,5                  0,75   \n",
      "3190                     1430                 < 0,5                  0,69   \n",
      "3191                     < 10                  7,93                  6,27   \n",
      "3192                      650                 < 0,5                  0,66   \n",
      "3193                      726                 < 0,5                  1,84   \n",
      "\n",
      "     Vitamine K1 (µg/100 g) Vitamine K2 (µg/100 g) Vitamine C (mg/100 g)  \\\n",
      "0                         -                      -                     -   \n",
      "1                      2,64                      -                 < 0,5   \n",
      "2                         -                      -                  13,2   \n",
      "3                         -                      -                  0,27   \n",
      "4                      2,55                      -                 < 0,5   \n",
      "...                     ...                    ...                   ...   \n",
      "3189                   16,3                      -                  0,61   \n",
      "3190                   1,59                      -                  1,87   \n",
      "3191                  < 0,8                      -                  29,5   \n",
      "3192                   5,25                      -                 < 0,5   \n",
      "3193                   3,18                      -                  3,09   \n",
      "\n",
      "     Vitamine B1 ou Thiamine (mg/100 g) Vitamine B2 ou Riboflavine (mg/100 g)  \\\n",
      "0                                     -                                     -   \n",
      "1                                 0,099                                 0,026   \n",
      "2                                 0,058                                  0,14   \n",
      "3                                   0,1                                  0,18   \n",
      "4                                 0,062                                 0,047   \n",
      "...                                 ...                                   ...   \n",
      "3189                              0,063                                  0,04   \n",
      "3190                              0,045                                  0,01   \n",
      "3191                               0,72                                  0,06   \n",
      "3192                              0,027                                  0,03   \n",
      "3193                              0,026                                  0,04   \n",
      "\n",
      "     Vitamine B3 ou PP ou Niacine (mg/100 g)  \\\n",
      "0                                          -   \n",
      "1                                        0,4   \n",
      "2                                       0,42   \n",
      "3                                       3,43   \n",
      "4                                       1,77   \n",
      "...                                      ...   \n",
      "3189                                    1,11   \n",
      "3190                                    0,98   \n",
      "3191                                    7,89   \n",
      "3192                                    0,28   \n",
      "3193                                    0,65   \n",
      "\n",
      "     Vitamine B5 ou Acide pantothénique (mg/100 g)  \n",
      "0                                                -  \n",
      "1                                              0,3  \n",
      "2                                             0,39  \n",
      "3                                             0,62  \n",
      "4                                             0,33  \n",
      "...                                            ...  \n",
      "3189                                          0,26  \n",
      "3190                                          0,18  \n",
      "3191                                          1,12  \n",
      "3192                                          0,12  \n",
      "3193                                          0,15  \n",
      "\n",
      "[3194 rows x 73 columns]\n",
      "   Administré.e       Nom   Prénom   Naissance                 Adresse  \\\n",
      "0            10  CAUCHARD  Georges  01/08/1995  2 bis, rue Quatrefages   \n",
      "1             1   MELLOUK  Georges  01/08/1995  2 bis, rue Quatrefages   \n",
      "2             2  CAUCHARD  Georges  01/08/1995  2 bis, rue Quatrefages   \n",
      "3             3  CAUCHARD  Georges  01/08/1995  2 bis, rue Quatrefages   \n",
      "4             4  CAUCHARD  Georges  01/08/1995  2 bis, rue Quatrefages   \n",
      "\n",
      "  Code Postal              Ville             Tel  Aliment1  Aliment2  \\\n",
      "0      14 110  CONDE SUR NOIREAU  02 46 32 16 42     36037     76081   \n",
      "1      14 110  CONDE SUR NOIREAU  02 46 32 16 42     29209     76081   \n",
      "2      14 110  CONDE SUR NOIREAU  02 46 32 16 42     36037     76081   \n",
      "3      14 110  CONDE SUR NOIREAU  02 46 32 16 42     36037     76081   \n",
      "4      14 110  CONDE SUR NOIREAU  02 46 32 16 42     36037     76081   \n",
      "\n",
      "   Aliment3  Aliment4  Aliment5  Aliment6  Aliment7  Aliment8  Aliment9  \\\n",
      "0     13431     25957     23588     20103     19666     25203     12763   \n",
      "1     13431     25957     23588     20103     19666     25203     12763   \n",
      "2     13431     25957     23588     20103     19666     25203     12763   \n",
      "3     13431     25957     23588     20103     19666     25203     12763   \n",
      "4     13431     25957     23588     20103     19666     25203     12763   \n",
      "\n",
      "   Aliment10  \n",
      "0       6254  \n",
      "1       6254  \n",
      "2       6254  \n",
      "3       6254  \n",
      "4       6254  \n"
     ]
    }
   ],
   "source": [
    "# Importation des données \"Démographie\" dans un dataframe\n",
    "tableAliments = read_csv('Aliments.csv', sep=';')\n",
    "print(tableAliments)\n",
    "tableSondage = read_csv('Sondage_1.csv', sep=';')\n",
    "print(tableSondage.head())"
   ],
   "metadata": {
    "collapsed": false,
    "pycharm": {
     "name": "#%%\n"
    }
   }
  },
  {
   "cell_type": "markdown",
   "source": [
    "# Bio."
   ],
   "metadata": {
    "collapsed": false,
    "pycharm": {
     "name": "#%% md\n"
    }
   }
  },
  {
   "cell_type": "code",
   "execution_count": 10,
   "outputs": [
    {
     "name": "stdout",
     "output_type": "stream",
     "text": [
      "['CAUCHARD', 'MELLOUK', 'CAUCHARD', 'CAUCHARD', 'CAUCHARD', 'CAUCHARD', 'CAUCHARD', 'CAUCHARD']\n",
      "[]\n",
      "[]\n",
      "[]\n"
     ]
    }
   ],
   "source": [
    "lables = tableSondage.columns[8:]\n",
    "taille = len(tableSondage.Nom)\n",
    "bio = 0\n",
    "halal = 0\n",
    "vegan = 0\n",
    "casher = 0\n",
    "habitantBio = []\n",
    "habitantHalal = []\n",
    "habitantVegan = []\n",
    "habitantcasher = []\n",
    "\n",
    "for i in range(taille) :\n",
    "    for j in range(len(lables)) :\n",
    "        aliment = tableSondage[lables[j]][i]\n",
    "        nomAliment = tableAliments[tableAliments.alim_code==aliment].alim_nom_fr\n",
    "        if \"bio\" in nomAliment.values[0] :\n",
    "            bio+=1\n",
    "        if \"halal\" in nomAliment.values[0] :\n",
    "            halal+=1\n",
    "        if \"vegan\" in nomAliment.values[0] :\n",
    "            vegan+=1\n",
    "        if \"casher\" in nomAliment.values[0] :\n",
    "            casher+=1\n",
    "    if bio >= 5 :\n",
    "        habitantBio.append(tableSondage.Nom[i])\n",
    "    if halal >= 5 :\n",
    "        habitantHalal.append(tableSondage.Nom[i])\n",
    "    if vegan >= 5 :\n",
    "        habitantVegan.append(tableSondage.Nom[i])\n",
    "    if casher >= 5 :\n",
    "        habitantcasher.append(tableSondage.Nom[i])\n",
    "\n",
    "    bio = 0\n",
    "    halal = 0\n",
    "    vegan = 0\n",
    "    casher = 0\n",
    "print(habitantBio)\n",
    "print(habitantcasher)\n",
    "print(habitantVegan)\n",
    "print(habitantHalal)"
   ],
   "metadata": {
    "collapsed": false,
    "pycharm": {
     "name": "#%%\n"
    }
   }
  },
  {
   "cell_type": "code",
   "execution_count": 11,
   "outputs": [
    {
     "name": "stdout",
     "output_type": "stream",
     "text": [
      "[['entrées et plats composés', 16], ['fruits, légumes, légumineuses et oléagineux', 16], ['produits laitiers et assimilés', 16], ['viandes, œufs, poissons et assimilés', 15], ['eaux et autres boissons', 9], ['produits sucrés', 8], ['pâtes diverses, produits céréaliers', 0], ['glaces et sorbets', 0], ['matières grasses', 0], ['aides culinaires et ingrédients divers', 0], ['aliments infantiles', 0]]\n"
     ]
    }
   ],
   "source": [
    "categorie = tableAliments.alim_grp_nom_fr.unique()\n",
    "listeCat = []\n",
    "for i in categorie :\n",
    "    listeCat.append([i,0])\n",
    "#print(listeCat)\n",
    "\n",
    "\n",
    "for i in range(taille) :\n",
    "    for j in range(len(lables)) :\n",
    "        aliment = tableSondage[lables[j]][i]\n",
    "        catAliment = tableAliments[tableAliments.alim_code==aliment].alim_grp_code\n",
    "        listeCat[catAliment.values[0]-1][1]+=1\n",
    "\n",
    "\n",
    "def takeSecond(elem):\n",
    "    return elem[1]\n",
    "\n",
    "#print(listeCat)\n",
    "listeCat.sort(key=takeSecond, reverse=True)\n",
    "print(listeCat)"
   ],
   "metadata": {
    "collapsed": false,
    "pycharm": {
     "name": "#%%\n"
    }
   }
  },
  {
   "cell_type": "code",
   "execution_count": null,
   "outputs": [],
   "source": [],
   "metadata": {
    "collapsed": false,
    "pycharm": {
     "name": "#%%\n"
    }
   }
  }
 ],
 "metadata": {
  "kernelspec": {
   "display_name": "Python 3",
   "language": "python",
   "name": "python3"
  },
  "language_info": {
   "codemirror_mode": {
    "name": "ipython",
    "version": 2
   },
   "file_extension": ".py",
   "mimetype": "text/x-python",
   "name": "python",
   "nbconvert_exporter": "python",
   "pygments_lexer": "ipython2",
   "version": "2.7.6"
  }
 },
 "nbformat": 4,
 "nbformat_minor": 0
}